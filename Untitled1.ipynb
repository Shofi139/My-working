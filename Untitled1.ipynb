{
  "nbformat": 4,
  "nbformat_minor": 0,
  "metadata": {
    "colab": {
      "provenance": [],
      "authorship_tag": "ABX9TyNav7/Sh+iQp7D9Uc87xDYa",
      "include_colab_link": true
    },
    "kernelspec": {
      "name": "python3",
      "display_name": "Python 3"
    },
    "language_info": {
      "name": "python"
    }
  },
  "cells": [
    {
      "cell_type": "markdown",
      "metadata": {
        "id": "view-in-github",
        "colab_type": "text"
      },
      "source": [
        "<a href=\"https://colab.research.google.com/github/Shofi139/My-working/blob/main/Untitled1.ipynb\" target=\"_parent\"><img src=\"https://colab.research.google.com/assets/colab-badge.svg\" alt=\"Open In Colab\"/></a>"
      ]
    },
    {
      "cell_type": "code",
      "execution_count": 4,
      "metadata": {
        "colab": {
          "base_uri": "https://localhost:8080/"
        },
        "id": "YJ5oBdbxY8Ve",
        "outputId": "b80a3475-4ea7-4ef4-854b-6b6932bc80ce"
      },
      "outputs": [
        {
          "output_type": "stream",
          "name": "stdout",
          "text": [
            "Enter the number of courses:2\n",
            "\n",
            " Course 1\n",
            "Enter your grade point:4.0\n",
            "Enter the credit of the course:3\n",
            "\n",
            " Course 2\n",
            "Enter your grade point:3.5\n",
            "Enter the credit of the course:3\n",
            "\n",
            "Your CGPA is: 3.5\n"
          ]
        }
      ],
      "source": [
        "#Calculate your CGPA\n",
        "totcredit=0\n",
        "totgradepoint=0\n",
        "totcourse=int(input(\"Enter the number of courses:\" ))\n",
        "for i in range(totcourse):\n",
        "  print(\"\\n Course\", i+1)\n",
        "  grade=float(input(\"Enter your grade point:\"))\n",
        "  credit=float(input(\"Enter the credit of the course:\"))\n",
        "totgradepoint+=grade*credit\n",
        "totcredit+=credit\n",
        "cgpa=totgradepoint/totcredit\n",
        "print(\"\\nYour CGPA is:\", cgpa)"
      ]
    }
  ]
}